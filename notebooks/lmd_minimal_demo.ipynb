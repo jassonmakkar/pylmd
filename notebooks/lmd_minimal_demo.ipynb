{
 "cells": [
  {
   "cell_type": "markdown",
   "id": "46206113",
   "metadata": {
    "tags": []
   },
   "source": [
    "# LMD Demo\n",
    "Preprocesses (PCA + neighbors) and computes LMD"
   ]
  },
  {
   "cell_type": "code",
   "execution_count": 1,
   "id": "29704ba4-d58d-46e9-b392-043a7c50cf42",
   "metadata": {},
   "outputs": [],
   "source": [
    "import scanpy as sc\n",
    "import rapids_singlecell as rsc\n",
    "import numpy as np\n",
    "import pandas as pd\n",
    "import sys\n",
    "import os\n",
    "import matplotlib.pyplot as plt\n",
    "import cupyx as cpx\n",
    "from pylmd.lmd import lmd\n",
    "import time"
   ]
  },
  {
   "cell_type": "code",
   "execution_count": 2,
   "id": "ec15578f-6af9-4f07-b1fa-6ad3263e9efc",
   "metadata": {},
   "outputs": [
    {
     "name": "stderr",
     "output_type": "stream",
     "text": [
      "/home/jasson/anaconda3/lib/python3.9/site-packages/anndata/_core/anndata.py:1756: UserWarning: Variable names are not unique. To make them unique, call `.var_names_make_unique`.\n",
      "  utils.warn_names_duplicates(\"var\")\n",
      "/home/jasson/anaconda3/lib/python3.9/site-packages/anndata/_core/anndata.py:1756: UserWarning: Variable names are not unique. To make them unique, call `.var_names_make_unique`.\n",
      "  utils.warn_names_duplicates(\"var\")\n"
     ]
    }
   ],
   "source": [
    "adata_cpu = sc.read_10x_h5(\"/mnt/d/scRNA/wtwoundfiltered_feature_bc_matrix.h5\")\n",
    "adata_cpu.var_names_make_unique()"
   ]
  },
  {
   "cell_type": "code",
   "execution_count": 3,
   "id": "f455f3d7-9557-47f5-b9d7-624e06acd045",
   "metadata": {},
   "outputs": [
    {
     "name": "stderr",
     "output_type": "stream",
     "text": [
      "/home/jasson/anaconda3/lib/python3.9/site-packages/anndata/_core/anndata.py:1756: UserWarning: Variable names are not unique. To make them unique, call `.var_names_make_unique`.\n",
      "  utils.warn_names_duplicates(\"var\")\n",
      "/home/jasson/anaconda3/lib/python3.9/site-packages/anndata/_core/anndata.py:1756: UserWarning: Variable names are not unique. To make them unique, call `.var_names_make_unique`.\n",
      "  utils.warn_names_duplicates(\"var\")\n"
     ]
    }
   ],
   "source": [
    "adata_gpu = sc.read_10x_h5(\"/mnt/d/scRNA/wtwoundfiltered_feature_bc_matrix.h5\")\n",
    "adata_gpu.var_names_make_unique()\n",
    "adata_gpu.X = cpx.scipy.sparse.csr_matrix(adata_gpu.X)"
   ]
  },
  {
   "cell_type": "code",
   "execution_count": 4,
   "id": "14f91563-6692-4198-b5cf-7c22cf6a0253",
   "metadata": {},
   "outputs": [
    {
     "data": {
      "text/plain": [
       "AnnData object with n_obs × n_vars = 4305 × 31053\n",
       "    var: 'gene_ids', 'feature_types', 'genome'"
      ]
     },
     "execution_count": 4,
     "metadata": {},
     "output_type": "execute_result"
    }
   ],
   "source": [
    "adata_cpu"
   ]
  },
  {
   "cell_type": "code",
   "execution_count": 5,
   "id": "68f37b5c-9dd7-47cc-8e4f-0c7e5a2a0a7c",
   "metadata": {},
   "outputs": [
    {
     "data": {
      "text/plain": [
       "AnnData object with n_obs × n_vars = 4305 × 31053\n",
       "    var: 'gene_ids', 'feature_types', 'genome'"
      ]
     },
     "execution_count": 5,
     "metadata": {},
     "output_type": "execute_result"
    }
   ],
   "source": [
    "adata_gpu"
   ]
  },
  {
   "cell_type": "code",
   "execution_count": 6,
   "id": "eb2bb13d-150e-421a-9112-7e7712de381c",
   "metadata": {},
   "outputs": [
    {
     "name": "stdout",
     "output_type": "stream",
     "text": [
      "Elapsed time: 15.524061693999101 seconds\n"
     ]
    }
   ],
   "source": [
    "start = time.perf_counter()\n",
    "\n",
    "sc.pp.filter_cells(adata_cpu, min_genes=100)\n",
    "sc.pp.filter_genes(adata_cpu, min_cells=3)\n",
    "sc.pp.normalize_total(adata_cpu)\n",
    "sc.pp.log1p(adata_cpu)\n",
    "\n",
    "sc.pp.highly_variable_genes(adata_cpu, n_top_genes=2000)\n",
    "sc.pp.scale(adata_cpu,max_value=10)\n",
    "\n",
    "sc.tl.pca(adata_cpu)\n",
    "sc.pp.neighbors(adata_cpu)\n",
    "sc.tl.umap(adata_cpu)\n",
    "\n",
    "end = time.perf_counter()\n",
    "print(f\"Elapsed time: {end - start} seconds\")"
   ]
  },
  {
   "cell_type": "code",
   "execution_count": 7,
   "id": "4c2f0f2c-2d17-479b-a00e-d096c9e2ecdd",
   "metadata": {},
   "outputs": [
    {
     "name": "stdout",
     "output_type": "stream",
     "text": [
      "Elapsed time: 3.465422897999815 seconds\n"
     ]
    }
   ],
   "source": [
    "start = time.perf_counter()\n",
    "\n",
    "rsc.pp.normalize_total(adata_gpu)\n",
    "rsc.pp.log1p(adata_gpu)\n",
    "\n",
    "rsc.pp.highly_variable_genes(adata_gpu, n_top_genes=2000)\n",
    "rsc.pp.scale(adata_gpu,max_value=10)\n",
    "\n",
    "rsc.tl.pca(adata_gpu)\n",
    "rsc.pp.neighbors(adata_gpu)\n",
    "rsc.tl.umap(adata_gpu)\n",
    "\n",
    "end = time.perf_counter()\n",
    "print(f\"Elapsed time: {end - start} seconds\")"
   ]
  },
  {
   "cell_type": "code",
   "execution_count": 8,
   "id": "b9ae1cb9-e7df-43a9-8165-0c9f7d7eb7b7",
   "metadata": {},
   "outputs": [
    {
     "name": "stdout",
     "output_type": "stream",
     "text": [
      "Elapsed time: 15.559674375999748 seconds\n"
     ]
    }
   ],
   "source": [
    "start = time.perf_counter()\n",
    "\n",
    "# Compute LMD\n",
    "res_cpu = lmd(adata_cpu, n_neighbors=15, use_rep='X_pca', max_time_pow=6, min_cells=3, correction=False, device='cpu')\n",
    "\n",
    "end = time.perf_counter()\n",
    "print(f\"Elapsed time: {end - start} seconds\")"
   ]
  },
  {
   "cell_type": "code",
   "execution_count": 9,
   "id": "fb439f56-e287-42f1-8846-ef773e2ef281",
   "metadata": {},
   "outputs": [
    {
     "data": {
      "text/plain": [
       "anndata._core.anndata.AnnData"
      ]
     },
     "execution_count": 9,
     "metadata": {},
     "output_type": "execute_result"
    }
   ],
   "source": [
    "type(adata_gpu)"
   ]
  },
  {
   "cell_type": "code",
   "execution_count": 10,
   "id": "d8562b0c-7a9a-446a-8f6f-04c6020c0f0b",
   "metadata": {},
   "outputs": [
    {
     "ename": "TypeError",
     "evalue": "Argument 'array' has incorrect type (expected cupy._core.core._ndarray_base, got numpy.ndarray)",
     "output_type": "error",
     "traceback": [
      "\u001b[0;31m---------------------------------------------------------------------------\u001b[0m",
      "\u001b[0;31mTypeError\u001b[0m                                 Traceback (most recent call last)",
      "\u001b[0;32m/tmp/ipykernel_23866/398828690.py\u001b[0m in \u001b[0;36m<module>\u001b[0;34m\u001b[0m\n\u001b[1;32m      2\u001b[0m \u001b[0;34m\u001b[0m\u001b[0m\n\u001b[1;32m      3\u001b[0m \u001b[0;31m# Compute LMD\u001b[0m\u001b[0;34m\u001b[0m\u001b[0;34m\u001b[0m\u001b[0m\n\u001b[0;32m----> 4\u001b[0;31m \u001b[0mres_gpu\u001b[0m \u001b[0;34m=\u001b[0m \u001b[0mlmd\u001b[0m\u001b[0;34m(\u001b[0m\u001b[0madata_gpu\u001b[0m\u001b[0;34m,\u001b[0m \u001b[0mn_neighbors\u001b[0m\u001b[0;34m=\u001b[0m\u001b[0;36m15\u001b[0m\u001b[0;34m,\u001b[0m \u001b[0muse_rep\u001b[0m\u001b[0;34m=\u001b[0m\u001b[0;34m'X_pca'\u001b[0m\u001b[0;34m,\u001b[0m \u001b[0mmax_time_pow\u001b[0m\u001b[0;34m=\u001b[0m\u001b[0;36m6\u001b[0m\u001b[0;34m,\u001b[0m \u001b[0mmin_cells\u001b[0m\u001b[0;34m=\u001b[0m\u001b[0;36m3\u001b[0m\u001b[0;34m,\u001b[0m \u001b[0mcorrection\u001b[0m\u001b[0;34m=\u001b[0m\u001b[0;32mFalse\u001b[0m\u001b[0;34m,\u001b[0m \u001b[0mdevice\u001b[0m\u001b[0;34m=\u001b[0m\u001b[0;34m'gpu'\u001b[0m\u001b[0;34m)\u001b[0m\u001b[0;34m\u001b[0m\u001b[0;34m\u001b[0m\u001b[0m\n\u001b[0m\u001b[1;32m      5\u001b[0m \u001b[0;34m\u001b[0m\u001b[0m\n\u001b[1;32m      6\u001b[0m \u001b[0mend\u001b[0m \u001b[0;34m=\u001b[0m \u001b[0mtime\u001b[0m\u001b[0;34m.\u001b[0m\u001b[0mperf_counter\u001b[0m\u001b[0;34m(\u001b[0m\u001b[0;34m)\u001b[0m\u001b[0;34m\u001b[0m\u001b[0;34m\u001b[0m\u001b[0m\n",
      "\u001b[0;32m/mnt/j/docker/pylmd/pylmd/pylmd/lmd.py\u001b[0m in \u001b[0;36mlmd\u001b[0;34m(adata, n_neighbors, use_rep, max_time_pow, min_cells, correction, device)\u001b[0m\n\u001b[1;32m    147\u001b[0m         \u001b[0;32mraise\u001b[0m \u001b[0mValueError\u001b[0m\u001b[0;34m(\u001b[0m\u001b[0;34m\"Expression and graph dimension mismatch: genes x cells vs cells x cells\"\u001b[0m\u001b[0;34m)\u001b[0m\u001b[0;34m\u001b[0m\u001b[0;34m\u001b[0m\u001b[0m\n\u001b[1;32m    148\u001b[0m \u001b[0;34m\u001b[0m\u001b[0m\n\u001b[0;32m--> 149\u001b[0;31m     \u001b[0mscores\u001b[0m \u001b[0;34m=\u001b[0m \u001b[0mfast_calculate_score_profile\u001b[0m\u001b[0;34m(\u001b[0m\u001b[0mW\u001b[0m\u001b[0;34m=\u001b[0m\u001b[0mW\u001b[0m\u001b[0;34m,\u001b[0m \u001b[0minit_state\u001b[0m\u001b[0;34m=\u001b[0m\u001b[0mrho\u001b[0m\u001b[0;34m,\u001b[0m \u001b[0mmax_time_pow\u001b[0m\u001b[0;34m=\u001b[0m\u001b[0mmax_time_pow\u001b[0m\u001b[0;34m,\u001b[0m \u001b[0mdevice\u001b[0m\u001b[0;34m=\u001b[0m\u001b[0mdevice\u001b[0m\u001b[0;34m)\u001b[0m\u001b[0;34m\u001b[0m\u001b[0;34m\u001b[0m\u001b[0m\n\u001b[0m\u001b[1;32m    150\u001b[0m     \u001b[0mlmds\u001b[0m \u001b[0;34m=\u001b[0m \u001b[0mobtain_lmds\u001b[0m\u001b[0;34m(\u001b[0m\u001b[0mscores\u001b[0m\u001b[0;34m,\u001b[0m \u001b[0mcorrection\u001b[0m\u001b[0;34m=\u001b[0m\u001b[0mcorrection\u001b[0m\u001b[0;34m,\u001b[0m \u001b[0mdevice\u001b[0m\u001b[0;34m=\u001b[0m\u001b[0mdevice\u001b[0m\u001b[0;34m)\u001b[0m\u001b[0;34m\u001b[0m\u001b[0;34m\u001b[0m\u001b[0m\n\u001b[1;32m    151\u001b[0m \u001b[0;34m\u001b[0m\u001b[0m\n",
      "\u001b[0;32m/mnt/j/docker/pylmd/pylmd/pylmd/lmd.py\u001b[0m in \u001b[0;36mfast_calculate_score_profile\u001b[0;34m(W, init_state, max_time_pow, device)\u001b[0m\n\u001b[1;32m     69\u001b[0m \u001b[0;34m\u001b[0m\u001b[0m\n\u001b[1;32m     70\u001b[0m     \u001b[0;31m# doubly stochastic transition matrix P\u001b[0m\u001b[0;34m\u001b[0m\u001b[0;34m\u001b[0m\u001b[0m\n\u001b[0;32m---> 71\u001b[0;31m     \u001b[0mP\u001b[0m \u001b[0;34m=\u001b[0m \u001b[0msinkhorn_bistochastic\u001b[0m\u001b[0;34m(\u001b[0m\u001b[0m_to_dense\u001b[0m\u001b[0;34m(\u001b[0m\u001b[0mW\u001b[0m\u001b[0;34m)\u001b[0m\u001b[0;34m,\u001b[0m \u001b[0mxp\u001b[0m\u001b[0;34m=\u001b[0m\u001b[0mxp\u001b[0m\u001b[0;34m)\u001b[0m\u001b[0;34m\u001b[0m\u001b[0;34m\u001b[0m\u001b[0m\n\u001b[0m\u001b[1;32m     72\u001b[0m \u001b[0;34m\u001b[0m\u001b[0m\n\u001b[1;32m     73\u001b[0m     \u001b[0;31m# Dyadic diffusion times\u001b[0m\u001b[0;34m\u001b[0m\u001b[0;34m\u001b[0m\u001b[0m\n",
      "\u001b[0;32m/mnt/j/docker/pylmd/pylmd/pylmd/utils.py\u001b[0m in \u001b[0;36msinkhorn_bistochastic\u001b[0;34m(W, max_iter, tol, xp)\u001b[0m\n\u001b[1;32m     71\u001b[0m         \u001b[0mr_old\u001b[0m \u001b[0;34m=\u001b[0m \u001b[0mr\u001b[0m\u001b[0;34m\u001b[0m\u001b[0;34m\u001b[0m\u001b[0m\n\u001b[1;32m     72\u001b[0m         \u001b[0mc_old\u001b[0m \u001b[0;34m=\u001b[0m \u001b[0mc\u001b[0m\u001b[0;34m\u001b[0m\u001b[0;34m\u001b[0m\u001b[0m\n\u001b[0;32m---> 73\u001b[0;31m         \u001b[0mr\u001b[0m \u001b[0;34m=\u001b[0m \u001b[0;36m1.0\u001b[0m \u001b[0;34m/\u001b[0m \u001b[0;34m(\u001b[0m\u001b[0mWd\u001b[0m \u001b[0;34m@\u001b[0m \u001b[0mc\u001b[0m\u001b[0;34m.\u001b[0m\u001b[0mT\u001b[0m \u001b[0;34m+\u001b[0m \u001b[0;36m1e-12\u001b[0m\u001b[0;34m)\u001b[0m\u001b[0;34m\u001b[0m\u001b[0;34m\u001b[0m\u001b[0m\n\u001b[0m\u001b[1;32m     74\u001b[0m         \u001b[0mc\u001b[0m \u001b[0;34m=\u001b[0m \u001b[0;36m1.0\u001b[0m \u001b[0;34m/\u001b[0m \u001b[0;34m(\u001b[0m\u001b[0mr\u001b[0m\u001b[0;34m.\u001b[0m\u001b[0mT\u001b[0m \u001b[0;34m@\u001b[0m \u001b[0mWd\u001b[0m \u001b[0;34m+\u001b[0m \u001b[0;36m1e-12\u001b[0m\u001b[0;34m)\u001b[0m\u001b[0;34m\u001b[0m\u001b[0;34m\u001b[0m\u001b[0m\n\u001b[1;32m     75\u001b[0m         \u001b[0;32mif\u001b[0m \u001b[0mxp\u001b[0m\u001b[0;34m.\u001b[0m\u001b[0mmax\u001b[0m\u001b[0;34m(\u001b[0m\u001b[0mxp\u001b[0m\u001b[0;34m.\u001b[0m\u001b[0mabs\u001b[0m\u001b[0;34m(\u001b[0m\u001b[0mr\u001b[0m \u001b[0;34m-\u001b[0m \u001b[0mr_old\u001b[0m\u001b[0;34m)\u001b[0m\u001b[0;34m)\u001b[0m \u001b[0;34m<\u001b[0m \u001b[0mtol\u001b[0m \u001b[0;32mand\u001b[0m \u001b[0mxp\u001b[0m\u001b[0;34m.\u001b[0m\u001b[0mmax\u001b[0m\u001b[0;34m(\u001b[0m\u001b[0mxp\u001b[0m\u001b[0;34m.\u001b[0m\u001b[0mabs\u001b[0m\u001b[0;34m(\u001b[0m\u001b[0mc\u001b[0m \u001b[0;34m-\u001b[0m \u001b[0mc_old\u001b[0m\u001b[0;34m)\u001b[0m\u001b[0;34m)\u001b[0m \u001b[0;34m<\u001b[0m \u001b[0mtol\u001b[0m\u001b[0;34m:\u001b[0m\u001b[0;34m\u001b[0m\u001b[0;34m\u001b[0m\u001b[0m\n",
      "\u001b[0;32mcupy/_core/core.pyx\u001b[0m in \u001b[0;36mcupy._core.core._ndarray_base.__array_ufunc__\u001b[0;34m()\u001b[0m\n",
      "\u001b[0;32m~/anaconda3/lib/python3.9/site-packages/cupy/_core/_gufuncs.py\u001b[0m in \u001b[0;36m__call__\u001b[0;34m(self, *args, **kwargs)\u001b[0m\n\u001b[1;32m    656\u001b[0m                 ' but %s given' % (len(input_coredimss), len(args)))\n\u001b[1;32m    657\u001b[0m \u001b[0;34m\u001b[0m\u001b[0m\n\u001b[0;32m--> 658\u001b[0;31m         args, dimsizess, loop_output_dims, outs, m_dims = self._get_args_transposed(  # NOQA\n\u001b[0m\u001b[1;32m    659\u001b[0m             args, input_axes, outs, output_axes)\n\u001b[1;32m    660\u001b[0m \u001b[0;34m\u001b[0m\u001b[0m\n",
      "\u001b[0;32m~/anaconda3/lib/python3.9/site-packages/cupy/_core/_gufuncs.py\u001b[0m in \u001b[0;36m_get_args_transposed\u001b[0;34m(self, args, input_axes, outs, output_axes)\u001b[0m\n\u001b[1;32m    470\u001b[0m         shape = internal._broadcast_shapes(\n\u001b[1;32m    471\u001b[0m             [a.shape[:-len(self._input_coredimss)] for a in args])\n\u001b[0;32m--> 472\u001b[0;31m         args = [_manipulation.broadcast_to(\n\u001b[0m\u001b[1;32m    473\u001b[0m             a, shape + a.shape[-len(self._input_coredimss):]) for a in args]\n\u001b[1;32m    474\u001b[0m \u001b[0;34m\u001b[0m\u001b[0m\n",
      "\u001b[0;32m~/anaconda3/lib/python3.9/site-packages/cupy/_core/_gufuncs.py\u001b[0m in \u001b[0;36m<listcomp>\u001b[0;34m(.0)\u001b[0m\n\u001b[1;32m    470\u001b[0m         shape = internal._broadcast_shapes(\n\u001b[1;32m    471\u001b[0m             [a.shape[:-len(self._input_coredimss)] for a in args])\n\u001b[0;32m--> 472\u001b[0;31m         args = [_manipulation.broadcast_to(\n\u001b[0m\u001b[1;32m    473\u001b[0m             a, shape + a.shape[-len(self._input_coredimss):]) for a in args]\n\u001b[1;32m    474\u001b[0m \u001b[0;34m\u001b[0m\u001b[0m\n",
      "\u001b[0;31mTypeError\u001b[0m: Argument 'array' has incorrect type (expected cupy._core.core._ndarray_base, got numpy.ndarray)"
     ]
    }
   ],
   "source": [
    "start = time.perf_counter()\n",
    "\n",
    "# Compute LMD\n",
    "res_gpu = lmd(adata_gpu, n_neighbors=15, use_rep='X_pca', max_time_pow=6, min_cells=3, correction=False, device='gpu')\n",
    "\n",
    "end = time.perf_counter()\n",
    "print(f\"Elapsed time: {end - start} seconds\")"
   ]
  },
  {
   "cell_type": "code",
   "execution_count": null,
   "id": "83977eca-32be-4919-b266-b41e2a9b1108",
   "metadata": {},
   "outputs": [],
   "source": [
    "# Show top genes\n",
    "genes_cpu = res_cpu['genes'] if res_cpu['genes'] is not None else [f'gene_{i}' for i in range(n_genes)]\n",
    "order_cpu = res_cpu['rank']\n",
    "lmds_cpu = res_cpu['lmds']"
   ]
  },
  {
   "cell_type": "code",
   "execution_count": null,
   "id": "661c9507-2092-474a-8cb9-a8615a71e4ae",
   "metadata": {},
   "outputs": [],
   "source": [
    "plt.plot([genes_cpu[i] for i in order_cpu[::100]], [lmds_cpu[i] for i in order_cpu[::100]])"
   ]
  },
  {
   "cell_type": "code",
   "execution_count": null,
   "id": "916f2040-ef54-4328-bd77-4b7295bfde62",
   "metadata": {},
   "outputs": [],
   "source": [
    "res_cpu['knee_index']"
   ]
  },
  {
   "cell_type": "code",
   "execution_count": null,
   "id": "ae5218ef-a754-4d39-a990-79623195d565",
   "metadata": {},
   "outputs": [],
   "source": [
    "res_cpu['score_profile']"
   ]
  },
  {
   "cell_type": "code",
   "execution_count": null,
   "id": "ba7b8290-4bde-4cb5-b752-47e53b4d8145",
   "metadata": {},
   "outputs": [],
   "source": [
    "res_cpu['score_profile']"
   ]
  },
  {
   "cell_type": "code",
   "execution_count": null,
   "id": "1fa0bda2-c803-4442-9e0d-c658e17ca22f",
   "metadata": {},
   "outputs": [],
   "source": [
    "scores_over_time = []\n",
    "\n",
    "for i in res_cpu['score_profile']:\n",
    "    if i.startswith('score'):\n",
    "        scores_over_time.append(res_cpu['score_profile'][i][2000])\n",
    "        \n",
    "plt.plot(scores_over_time)"
   ]
  },
  {
   "cell_type": "code",
   "execution_count": null,
   "id": "bfa0ca31-377a-4c1d-8d51-3c30496358c5",
   "metadata": {},
   "outputs": [],
   "source": [
    "scores_over_time = []\n",
    "\n",
    "for i in res_cpu['score_profile']:\n",
    "    if i.startswith('score'):\n",
    "        scores_over_time.append(res_cpu['score_profile'][i][1])\n",
    "        \n",
    "plt.plot(scores_over_time)"
   ]
  },
  {
   "cell_type": "code",
   "execution_count": null,
   "id": "da70dd77-406b-477e-962f-78739ab04bb8",
   "metadata": {},
   "outputs": [],
   "source": [
    "# Show top genes\n",
    "genes_gpu = res_gpu['genes'] if res_gpu['genes'] is not None else [f'gene_{i}' for i in range(n_genes)]\n",
    "order_gpu = res_gpu['rank']\n",
    "lmds_gpu = res_gpu['lmds']"
   ]
  },
  {
   "cell_type": "code",
   "execution_count": null,
   "id": "9150c6a2-eedc-47e6-b941-475c813fb3cd",
   "metadata": {},
   "outputs": [],
   "source": [
    "top_gpu = [(genes_gpu[i], float(lmds_gpu[i])) for i in order_gpu[:10]]\n",
    "top_gpu"
   ]
  },
  {
   "cell_type": "code",
   "execution_count": null,
   "id": "4663356c-340f-40d5-a13e-eb93f5063591",
   "metadata": {},
   "outputs": [],
   "source": [
    "genes_cpu[:10]"
   ]
  },
  {
   "cell_type": "code",
   "execution_count": null,
   "id": "1ae9b761-6974-4385-9797-7a5442846d3f",
   "metadata": {},
   "outputs": [],
   "source": [
    "top_cpu = [(genes_cpu[i], float(lmds_cpu[i])) for i in order_cpu[:10]]\n",
    "top_cpu"
   ]
  },
  {
   "cell_type": "code",
   "execution_count": null,
   "id": "bb7e242d-40e1-46c4-9d49-a8ef0b10ec29",
   "metadata": {},
   "outputs": [],
   "source": [
    "bot_gpu = [(genes_gpu[i], float(lmds_gpu[i])) for i in order_gpu[(len(order_gpu) - 10):]]\n",
    "bot_gpu"
   ]
  },
  {
   "cell_type": "code",
   "execution_count": null,
   "id": "a6569a86-4521-42ac-9afb-887347b1b5a5",
   "metadata": {},
   "outputs": [],
   "source": [
    "bot_cpu = [(genes_cpu[i], float(lmds_cpu[i])) for i in order_cpu[(len(order_cpu) - 10):]]\n",
    "bot_cpu"
   ]
  },
  {
   "cell_type": "code",
   "execution_count": null,
   "id": "e5210ad1-c379-4a0a-9860-4c3c28ea9b2d",
   "metadata": {},
   "outputs": [],
   "source": [
    "top_genes_gpu = [(genes_gpu[i]) for i in order_gpu[:20]]\n",
    "top_genes_gpu"
   ]
  },
  {
   "cell_type": "code",
   "execution_count": null,
   "id": "ebb365f6-4a5c-4d09-8ab1-4594dce0c9b4",
   "metadata": {},
   "outputs": [],
   "source": [
    "top_genes_cpu = [(genes_cpu[i]) for i in order_cpu[:20]]\n",
    "top_genes_cpu"
   ]
  },
  {
   "cell_type": "code",
   "execution_count": null,
   "id": "e160e3f4-b19f-4f94-ac0d-8bb9336d8eb2",
   "metadata": {},
   "outputs": [],
   "source": [
    "bot_genes_gpu = [(genes_gpu[i]) for i in order_gpu[(len(order_gpu) - 10):]]\n",
    "bot_genes_gpu"
   ]
  },
  {
   "cell_type": "code",
   "execution_count": null,
   "id": "19f5b215-ce06-49da-b8f4-ce09e31d8f92",
   "metadata": {},
   "outputs": [],
   "source": [
    "bot_genes_cpu = [(genes_cpu[i]) for i in order_cpu[(len(order_cpu) - 10):]]\n",
    "bot_genes_cpu"
   ]
  },
  {
   "cell_type": "code",
   "execution_count": null,
   "id": "7bb6a004-3b9d-4c78-8aa0-5e8874db41dc",
   "metadata": {},
   "outputs": [],
   "source": [
    "sc.pl.umap(adata_gpu, color = top_genes_gpu)"
   ]
  },
  {
   "cell_type": "code",
   "execution_count": null,
   "id": "bda02ede-80c9-4447-83a7-ba04a79f2b24",
   "metadata": {},
   "outputs": [],
   "source": [
    "sc.pl.umap(adata_cpu, color = top_genes_cpu)"
   ]
  },
  {
   "cell_type": "code",
   "execution_count": null,
   "id": "7c7f14d6-f323-43dd-93a2-816334f74711",
   "metadata": {},
   "outputs": [],
   "source": [
    "sc.pl.umap(adata_gpu, color = bot_genes_gpu)"
   ]
  },
  {
   "cell_type": "code",
   "execution_count": null,
   "id": "1c8583f7-7e66-4d27-bfd5-9ef7779172be",
   "metadata": {},
   "outputs": [],
   "source": [
    "sc.pl.umap(adata_cpu, color = bot_genes_cpu)"
   ]
  },
  {
   "cell_type": "code",
   "execution_count": null,
   "id": "a15092cf-1725-4642-b5a4-a0b5dc04bd80",
   "metadata": {},
   "outputs": [],
   "source": [
    "check_genes_cpu = [(genes_cpu[i]) for i in order_cpu[::1000]]\n",
    "check_genes_cpu\n",
    "sc.pl.umap(adata_cpu, color = check_genes_cpu)"
   ]
  }
 ],
 "metadata": {
  "kernelspec": {
   "display_name": "Python 3 (ipykernel)",
   "language": "python",
   "name": "python3"
  },
  "language_info": {
   "codemirror_mode": {
    "name": "ipython",
    "version": 3
   },
   "file_extension": ".py",
   "mimetype": "text/x-python",
   "name": "python",
   "nbconvert_exporter": "python",
   "pygments_lexer": "ipython3",
   "version": "3.9.13"
  }
 },
 "nbformat": 4,
 "nbformat_minor": 5
}
