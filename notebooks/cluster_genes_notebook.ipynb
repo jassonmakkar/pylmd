{
 "cells": [
  {
   "cell_type": "code",
   "execution_count": 1,
   "id": "e8d235c5",
   "metadata": {},
   "outputs": [],
   "source": [
    "import scanpy as sc\n",
    "import numpy as np\n",
    "import pandas as pd\n",
    "import pooch"
   ]
  },
  {
   "cell_type": "code",
   "execution_count": 2,
   "id": "78ec3a60",
   "metadata": {},
   "outputs": [],
   "source": [
    "EXAMPLE_DATA = pooch.create(\n",
    "    path=pooch.os_cache(\"scverse_tutorials\"),\n",
    "    base_url=\"doi:10.6084/m9.figshare.22716739.v1/\",\n",
    ")\n",
    "EXAMPLE_DATA.load_registry_from_doi()"
   ]
  },
  {
   "cell_type": "code",
   "execution_count": 3,
   "id": "b8dd408c",
   "metadata": {},
   "outputs": [
    {
     "name": "stderr",
     "output_type": "stream",
     "text": [
      "/Users/samuel/Repos/pylmd/.venv/lib/python3.13/site-packages/anndata/_core/anndata.py:1793: UserWarning: Variable names are not unique. To make them unique, call `.var_names_make_unique`.\n",
      "  utils.warn_names_duplicates(\"var\")\n",
      "/Users/samuel/Repos/pylmd/.venv/lib/python3.13/site-packages/anndata/_core/anndata.py:1793: UserWarning: Variable names are not unique. To make them unique, call `.var_names_make_unique`.\n",
      "  utils.warn_names_duplicates(\"var\")\n"
     ]
    },
    {
     "data": {
      "text/plain": [
       "AnnData object with n_obs × n_vars = 8785 × 36601\n",
       "    var: 'gene_ids', 'feature_types', 'genome', 'pattern', 'read', 'sequence'"
      ]
     },
     "execution_count": 3,
     "metadata": {},
     "output_type": "execute_result"
    }
   ],
   "source": [
    "path = EXAMPLE_DATA.fetch('s1d1_filtered_feature_bc_matrix.h5')\n",
    "adata = sc.read_10x_h5(path)\n",
    "adata.var_names_make_unique()\n",
    "\n",
    "adata"
   ]
  },
  {
   "cell_type": "code",
   "execution_count": 4,
   "id": "2e529d61",
   "metadata": {},
   "outputs": [],
   "source": [
    "sc.pp.filter_cells(adata, min_genes=100)\n",
    "sc.pp.filter_genes(adata, min_cells=3)\n",
    "\n",
    "raw_adata = adata.copy()"
   ]
  },
  {
   "cell_type": "code",
   "execution_count": 5,
   "id": "46bbdd00",
   "metadata": {},
   "outputs": [],
   "source": [
    "dat = pd.DataFrame(\n",
    "    raw_adata.X.T.toarray() if not isinstance(raw_adata.X, np.ndarray) else raw_adata.X.T,\n",
    "    index=adata.var_names,       # genes\n",
    "    columns=adata.obs_names      # cells\n",
    ")\n",
    "\n",
    "filtered_dat = dat.loc[['IFNG', 'IGF1', 'LEF1']]"
   ]
  },
  {
   "cell_type": "code",
   "execution_count": 6,
   "id": "55f8391a",
   "metadata": {},
   "outputs": [
    {
     "data": {
      "application/vnd.microsoft.datawrangler.viewer.v0+json": {
       "columns": [
        {
         "name": "index",
         "rawType": "object",
         "type": "string"
        },
        {
         "name": "Cell1",
         "rawType": "int64",
         "type": "integer"
        },
        {
         "name": "Cell2",
         "rawType": "int64",
         "type": "integer"
        },
        {
         "name": "Cell3",
         "rawType": "int64",
         "type": "integer"
        },
        {
         "name": "Cell4",
         "rawType": "int64",
         "type": "integer"
        }
       ],
       "ref": "8ca09740-cac9-4b16-b62a-cda50d75be83",
       "rows": [
        [
         "GeneA",
         "10",
         "0",
         "5",
         "0"
        ],
        [
         "GeneB",
         "0",
         "3",
         "0",
         "7"
        ],
        [
         "GeneC",
         "2",
         "3",
         "2",
         "3"
        ],
        [
         "GeneD",
         "9",
         "1",
         "0",
         "0"
        ],
        [
         "GeneE",
         "0",
         "0",
         "1",
         "9"
        ]
       ],
       "shape": {
        "columns": 4,
        "rows": 5
       }
      },
      "text/html": [
       "<div>\n",
       "<style scoped>\n",
       "    .dataframe tbody tr th:only-of-type {\n",
       "        vertical-align: middle;\n",
       "    }\n",
       "\n",
       "    .dataframe tbody tr th {\n",
       "        vertical-align: top;\n",
       "    }\n",
       "\n",
       "    .dataframe thead th {\n",
       "        text-align: right;\n",
       "    }\n",
       "</style>\n",
       "<table border=\"1\" class=\"dataframe\">\n",
       "  <thead>\n",
       "    <tr style=\"text-align: right;\">\n",
       "      <th></th>\n",
       "      <th>Cell1</th>\n",
       "      <th>Cell2</th>\n",
       "      <th>Cell3</th>\n",
       "      <th>Cell4</th>\n",
       "    </tr>\n",
       "  </thead>\n",
       "  <tbody>\n",
       "    <tr>\n",
       "      <th>GeneA</th>\n",
       "      <td>10</td>\n",
       "      <td>0</td>\n",
       "      <td>5</td>\n",
       "      <td>0</td>\n",
       "    </tr>\n",
       "    <tr>\n",
       "      <th>GeneB</th>\n",
       "      <td>0</td>\n",
       "      <td>3</td>\n",
       "      <td>0</td>\n",
       "      <td>7</td>\n",
       "    </tr>\n",
       "    <tr>\n",
       "      <th>GeneC</th>\n",
       "      <td>2</td>\n",
       "      <td>3</td>\n",
       "      <td>2</td>\n",
       "      <td>3</td>\n",
       "    </tr>\n",
       "    <tr>\n",
       "      <th>GeneD</th>\n",
       "      <td>9</td>\n",
       "      <td>1</td>\n",
       "      <td>0</td>\n",
       "      <td>0</td>\n",
       "    </tr>\n",
       "    <tr>\n",
       "      <th>GeneE</th>\n",
       "      <td>0</td>\n",
       "      <td>0</td>\n",
       "      <td>1</td>\n",
       "      <td>9</td>\n",
       "    </tr>\n",
       "  </tbody>\n",
       "</table>\n",
       "</div>"
      ],
      "text/plain": [
       "       Cell1  Cell2  Cell3  Cell4\n",
       "GeneA     10      0      5      0\n",
       "GeneB      0      3      0      7\n",
       "GeneC      2      3      2      3\n",
       "GeneD      9      1      0      0\n",
       "GeneE      0      0      1      9"
      ]
     },
     "execution_count": 6,
     "metadata": {},
     "output_type": "execute_result"
    }
   ],
   "source": [
    "test_matrix = pd.DataFrame(\n",
    "    {\n",
    "        \"Cell1\": [10, 0, 2, 9, 0],\n",
    "        \"Cell2\": [0, 3, 3, 1, 0],\n",
    "        \"Cell3\": [5, 0, 2, 0, 1],\n",
    "        \"Cell4\": [0, 7, 3, 0, 9],\n",
    "    },\n",
    "    index=[\"GeneA\", \"GeneB\", \"GeneC\", \"GeneD\", \"GeneE\"]\n",
    ")\n",
    "test_matrix"
   ]
  },
  {
   "cell_type": "code",
   "execution_count": 7,
   "id": "95e1175b",
   "metadata": {},
   "outputs": [
    {
     "data": {
      "application/vnd.microsoft.datawrangler.viewer.v0+json": {
       "columns": [
        {
         "name": "index",
         "rawType": "object",
         "type": "string"
        },
        {
         "name": "IFNG",
         "rawType": "float64",
         "type": "float"
        },
        {
         "name": "IGF1",
         "rawType": "float64",
         "type": "float"
        },
        {
         "name": "LEF1",
         "rawType": "float64",
         "type": "float"
        }
       ],
       "ref": "2465f356-f196-406d-8660-07a072b8694b",
       "rows": [
        [
         "IFNG",
         "0.0",
         "0.9967213114754099",
         "0.9799882283696292"
        ],
        [
         "IGF1",
         "0.9967213114754099",
         "0.0",
         "0.9993178717598908"
        ],
        [
         "LEF1",
         "0.9799882283696292",
         "0.9993178717598908",
         "0.0"
        ]
       ],
       "shape": {
        "columns": 3,
        "rows": 3
       }
      },
      "text/html": [
       "<div>\n",
       "<style scoped>\n",
       "    .dataframe tbody tr th:only-of-type {\n",
       "        vertical-align: middle;\n",
       "    }\n",
       "\n",
       "    .dataframe tbody tr th {\n",
       "        vertical-align: top;\n",
       "    }\n",
       "\n",
       "    .dataframe thead th {\n",
       "        text-align: right;\n",
       "    }\n",
       "</style>\n",
       "<table border=\"1\" class=\"dataframe\">\n",
       "  <thead>\n",
       "    <tr style=\"text-align: right;\">\n",
       "      <th></th>\n",
       "      <th>IFNG</th>\n",
       "      <th>IGF1</th>\n",
       "      <th>LEF1</th>\n",
       "    </tr>\n",
       "  </thead>\n",
       "  <tbody>\n",
       "    <tr>\n",
       "      <th>IFNG</th>\n",
       "      <td>0.000000</td>\n",
       "      <td>0.996721</td>\n",
       "      <td>0.979988</td>\n",
       "    </tr>\n",
       "    <tr>\n",
       "      <th>IGF1</th>\n",
       "      <td>0.996721</td>\n",
       "      <td>0.000000</td>\n",
       "      <td>0.999318</td>\n",
       "    </tr>\n",
       "    <tr>\n",
       "      <th>LEF1</th>\n",
       "      <td>0.979988</td>\n",
       "      <td>0.999318</td>\n",
       "      <td>0.000000</td>\n",
       "    </tr>\n",
       "  </tbody>\n",
       "</table>\n",
       "</div>"
      ],
      "text/plain": [
       "          IFNG      IGF1      LEF1\n",
       "IFNG  0.000000  0.996721  0.979988\n",
       "IGF1  0.996721  0.000000  0.999318\n",
       "LEF1  0.979988  0.999318  0.000000"
      ]
     },
     "execution_count": 7,
     "metadata": {},
     "output_type": "execute_result"
    }
   ],
   "source": [
    "from cluster_genes import CalculateGeneDistance\n",
    "\n",
    "dist = CalculateGeneDistance(filtered_dat, method=\"jaccard\")\n",
    "dist"
   ]
  },
  {
   "cell_type": "code",
   "execution_count": 8,
   "id": "0b7d7959",
   "metadata": {},
   "outputs": [
    {
     "name": "stdout",
     "output_type": "stream",
     "text": [
      "..cutHeight not given, setting it to 0.9978392779851702  ===>  99% of the (truncated) height range in dendro.\n",
      "cutHeight set too low; no merges below the cut.\n"
     ]
    },
    {
     "name": "stderr",
     "output_type": "stream",
     "text": [
      "/Users/samuel/Repos/pylmd/pylmd/pylmd/cluster_genes.py:116: FutureWarning: The default of observed=False is deprecated and will be changed to True in a future version of pandas. Pass observed=False to retain current behavior or observed=True to adopt the future default and silence this warning.\n",
      "  med_pos = (gene_partition.index.to_series().map(label_pos).groupby(gene_partition).median().sort_values())\n"
     ]
    },
    {
     "data": {
      "text/plain": [
       "(Series([], dtype: category\n",
       " Categories (0, int64): []),\n",
       " array([[0.        , 2.        , 0.97998823, 2.        ],\n",
       "        [1.        , 3.        , 0.99801959, 3.        ]]))"
      ]
     },
     "execution_count": 8,
     "metadata": {},
     "output_type": "execute_result"
    }
   ],
   "source": [
    "from cluster_genes import ClusterGenes\n",
    "\n",
    "gene_cl_res = ClusterGenes(dist, clustering_method=\"average\", return_tree=True, deepSplit=1)\n",
    "gene_cl_res # Could better display using a seaborn cluster heatmap"
   ]
  }
 ],
 "metadata": {
  "kernelspec": {
   "display_name": "Python 3 (ipykernel)",
   "language": "python",
   "name": "python3"
  },
  "language_info": {
   "codemirror_mode": {
    "name": "ipython",
    "version": 3
   },
   "file_extension": ".py",
   "mimetype": "text/x-python",
   "name": "python",
   "nbconvert_exporter": "python",
   "pygments_lexer": "ipython3",
   "version": "3.12.9"
  }
 },
 "nbformat": 4,
 "nbformat_minor": 5
}
